import pandas as pd
import numpy as np
import matplotlib.pyplot as plt
import seaborn as sns
from scipy import stats
import warnings
warnings.filterwarnings('ignore')

# Set style for better visualizations
plt.style.use('default')
sns.set_palette("husl")

# Load the dataset
df = pd.read_csv('spotify_tracks.csv')

# Display basic info about the dataset
print("Dataset Shape:", df.shape)
print("\nColumns:", df.columns.tolist())
print("\nData Types:")
print(df.dtypes)
print("\nMissing Values:")
print(df.isnull().sum())
Dataset Shape: (500, 23)

Columns: ['track_id', 'track_name', 'artist_name', 'year', 'popularity', 'artwork_url', 'album_name', 'acousticness', 'danceability', 'duration_ms', 'energy', 'instrumentalness', 'key', 'liveness', 'loudness', 'mode', 'speechiness', 'tempo', 'time_signature', 'valence', 'track_url', 'language']

Data Types:
track_id  :            object
track_name    :        object
artist_name :          object
year          :        int64
popularity    :        int64
artwork_url   :        object
album_name    :        object
acousticness  :      float64
danceability :       float64
duration_ms   :      float64
energy        :      float64
instrumentalness  :  float64
key         :        float64
liveness    :        float64
loudness  :          float64
mode      :          float64
speechiness   :      float64
tempo       :        float64
time_signature  :    float64
valence         :    float64
track_url   :          object
language :             object
dtype: object

Missing Values:
track_id    :      0
track_name    :    0
artist_name :      0
year         :     0
popularity    :    0
artwork_url    :   0
album_name     :   0
acousticness    :  0
danceability     : 0
duration_ms     :  0
energy          :  0
instrumentalness : 0
key              : 0
liveness     :     0
loudness      :    0
mode           :   0
speechiness     :  0
tempo         :    0
time_signature :   0
valence         :  0
track_url      :   0
language        :  0
dtype: int64
# Univariate Analysis - Distribution of key audio features
fig, axes = plt.subplots(3, 3, figsize=(15, 12))
fig.suptitle('Univariate Analysis - Distribution of Audio Features', fontsize=16, fontweight='bold')

# Popularity
axes[0,0].hist(df['popularity'], bins=30, alpha=0.7, color='skyblue', edgecolor='black')
axes[0,0].set_title('Popularity Distribution')
axes[0,0].set_xlabel('Popularity')
axes[0,0].set_ylabel('Frequency')

# Danceability
axes[0,1].hist(df['danceability'], bins=30, alpha=0.7, color='lightcoral', edgecolor='black')
axes[0,1].set_title('Danceability Distribution')
axes[0,1].set_xlabel('Danceability')

# Energy
axes[0,2].hist(df['energy'], bins=30, alpha=0.7, color='lightgreen', edgecolor='black')
axes[0,2].set_title('Energy Distribution')
axes[0,2].set_xlabel('Energy')

# Acousticness
axes[1,0].hist(df['acousticness'], bins=30, alpha=0.7, color='gold', edgecolor='black')
axes[1,0].set_title('Acousticness Distribution')
axes[1,0].set_xlabel('Acousticness')
axes[1,0].set_ylabel('Frequency')

# Valence
axes[1,1].hist(df['valence'], bins=30, alpha=0.7, color='orchid', edgecolor='black')
axes[1,1].set_title('Valence (Positivity) Distribution')
axes[1,1].set_xlabel('Valence')

# Tempo
axes[1,2].hist(df['tempo'], bins=30, alpha=0.7, color='orange', edgecolor='black')
axes[1,2].set_title('Tempo Distribution')
axes[1,2].set_xlabel('Tempo (BPM)')

# Duration
axes[2,0].hist(df['duration_ms']/60000, bins=30, alpha=0.7, color='cyan', edgecolor='black')
axes[2,0].set_title('Duration Distribution')
axes[2,0].set_xlabel('Duration (Minutes)')
axes[2,0].set_ylabel('Frequency')

# Speechiness
axes[2,1].hist(df['speechiness'], bins=30, alpha=0.7, color='pink', edgecolor='black')
axes[2,1].set_title('Speechiness Distribution')
axes[2,1].set_xlabel('Speechiness')

# Instrumentalness
axes[2,2].hist(df['instrumentalness'], bins=30, alpha=0.7, color='brown', edgecolor='black')
axes[2,2].set_title('Instrumentalness Distribution')
axes[2,2].set_xlabel('Instrumentalness')

plt.tight_layout()
plt.show()
# Bivariate Analysis
fig, axes = plt.subplots(2, 2, figsize=(15, 10))
fig.suptitle('Bivariate Analysis - Relationships with Popularity', fontsize=16, fontweight='bold')

# Popularity vs Danceability
axes[0,0].scatter(df['danceability'], df['popularity'], alpha=0.6, color='blue')
axes[0,0].set_xlabel('Danceability')
axes[0,0].set_ylabel('Popularity')
axes[0,0].set_title('Popularity vs Danceability')
z = np.polyfit(df['danceability'], df['popularity'], 1)
p = np.poly1d(z)
axes[0,0].plot(df['danceability'], p(df['danceability']), "r--", alpha=0.8)

# Popularity vs Energy
axes[0,1].scatter(df['energy'], df['popularity'], alpha=0.6, color='red')
axes[0,1].set_xlabel('Energy')
axes[0,1].set_ylabel('Popularity')
axes[0,1].set_title('Popularity vs Energy')
z = np.polyfit(df['energy'], df['popularity'], 1)
p = np.poly1d(z)
axes[0,1].plot(df['energy'], p(df['energy']), "r--", alpha=0.8)

# Popularity vs Valence
axes[1,0].scatter(df['valence'], df['popularity'], alpha=0.6, color='green')
axes[1,0].set_xlabel('Valence (Positivity)')
axes[1,0].set_ylabel('Popularity')
axes[1,0].set_title('Popularity vs Valence')
z = np.polyfit(df['valence'], df['popularity'], 1)
p = np.poly1d(z)
axes[1,0].plot(df['valence'], p(df['valence']), "r--", alpha=0.8)

# Popularity vs Acousticness
axes[1,1].scatter(df['acousticness'], df['popularity'], alpha=0.6, color='purple')
axes[1,1].set_xlabel('Acousticness')
axes[1,1].set_ylabel('Popularity')
axes[1,1].set_title('Popularity vs Acousticness')
z = np.polyfit(df['acousticness'], df['popularity'], 1)
p = np.poly1d(z)
axes[1,1].plot(df['acousticness'], p(df['acousticness']), "r--", alpha=0.8)

plt.tight_layout()
plt.show()
# Multivariate Analysis - Pairplot of key features
selected_features = ['popularity', 'danceability', 'energy', 'valence', 'acousticness', 'loudness']
sample_df = df[selected_features].sample(100, random_state=42)  # Sample for clarity

g = sns.pairplot(sample_df, diag_kind='hist', corner=True)
g.fig.suptitle('Multivariate Analysis - Pairplot of Audio Features', y=1.02, fontsize=16, fontweight='bold')
plt.show()

# Language-wise analysis
fig, axes = plt.subplots(1, 2, figsize=(15, 5))

# Popularity by Language
language_popularity = df.groupby('language')['popularity'].mean().sort_values(ascending=False)
axes[0].bar(language_popularity.index, language_popularity.values, color=sns.color_palette("husl", len(language_popularity)))
axes[0].set_title('Average Popularity by Language')
axes[0].set_xlabel('Language')
axes[0].set_ylabel('Average Popularity')
axes[0].tick_params(axis='x', rotation=45)

# Count by Language
language_count = df['language'].value_counts()
axes[1].bar(language_count.index, language_count.values, color=sns.color_palette("husl", len(language_count)))
axes[1].set_title('Number of Tracks by Language')
axes[1].set_xlabel('Language')
axes[1].set_ylabel('Count')
axes[1].tick_params(axis='x', rotation=45)

plt.tight_layout()
plt.show()
# Correlation Heatmap
plt.figure(figsize=(12, 10))
numeric_columns = ['popularity', 'acousticness', 'danceability', 'duration_ms', 'energy', 
                  'instrumentalness', 'liveness', 'loudness', 'speechiness', 'tempo', 'valence']

correlation_matrix = df[numeric_columns].corr()

mask = np.triu(np.ones_like(correlation_matrix, dtype=bool))
sns.heatmap(correlation_matrix, mask=mask, annot=True, cmap='coolwarm', center=0,
            square=True, linewidths=0.5, cbar_kws={"shrink": 0.8})
plt.title('Correlation Heatmap of Audio Features', fontsize=16, fontweight='bold', pad=20)
plt.tight_layout()
plt.show()